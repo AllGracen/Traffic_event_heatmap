{
  "cells": [
    {
      "cell_type": "code",
      "execution_count": null,
      "metadata": {
        "id": "xPkzOFXv4xMz"
      },
      "outputs": [],
      "source": [
        "'''\n",
        "import your life\n",
        "'''\n",
        "import numpy as np\n",
        "import io\n",
        "import datetime as date\n",
        "import pandas as pd\n",
        "import matplotlib.pyplot as plt\n",
        "from datetime import timedelta\n",
        "import plotly.graph_objects as go"
      ]
    },
    {
      "cell_type": "code",
      "execution_count": null,
      "metadata": {
        "id": "BCYlg2SrHmVs"
      },
      "outputs": [],
      "source": [
        "def myround(x, base=5):\n",
        "    \"\"\"\n",
        "    Rounds to the nearest 5 by default or any other number.\n",
        "    \"\"\"\n",
        "    return base * round(x/base)"
      ]
    },
    {
      "cell_type": "code",
      "source": [
        "def sortbyphaz(df,  **kwargs):\n",
        "    \"\"\"\n",
        "    This function sorts the kinetic signals data stream at intersections with detectors. Input kinetic signals device event data as a dataframe.\n",
        "    There is a second input which should be entered as a **kwargs; this input is the name of the detector and phase, i.e. '3a' for phase 3 and detector a. The function goes up to c for phase inputs and has an extra one for even phases with an ending r.\n",
        "    The function is also set up to read the device event data in order to show what phase is being served.\n",
        "    The output of the function is a edited df with columns: ('Event ID', 'Event Value', 'Timestamp', 'Time Between Rows') for only the events implied in the kwargs and the time line.\n",
        "    \"\"\"\n",
        "    #Initialize variables and all of the different kwargs that the phase can be (needs to be a different one every time to calculate the time between detector on/off)\n",
        "    phases = {'1a': [], '1b': [],'1c':[], '2a': [], '2b': [],'2c':[],'3a':[],'3b':[],'3c':[], '4a': [], '4b': [],'4c':[],\n",
        "              '5a': [], '5b': [], '5c': [], '6a': [], '6b': [],'6c':[], '7a': [], '7b': [],'7c':[],\n",
        "              '8a': [], '8b': [],'8c':[],'2r':[],'4r':[],'6r':[],'8r':[]}\n",
        "    timeline = [] #the timeline are events that are happening in the data stream\n",
        "\n",
        "    for _, row in df.iterrows():\n",
        "        event_id = row['Event ID']\n",
        "        event_value = row['Event Value']\n",
        "\n",
        "        if 81 <= event_id <= 100: #the values for defectors\n",
        "            added = False\n",
        "            for phase, values in kwargs.items():\n",
        "                if event_value in values: #if the phase matchs the told phase number\n",
        "                    phases[phase].append(row.copy())  # Append a copy of the row to the list of phases in a dictionary\n",
        "                    added = True\n",
        "                    break  # Exit loop if added to a phase\n",
        "            if not added:\n",
        "                print(f\"Warning: Event Value {event_value} did not match any phase.\")\n",
        "\n",
        "        elif 0 <= event_id <= 20:\n",
        "            timeline.append(row)\n",
        "\n",
        "    for key, rows in phases.items():  # Iterate over the phases dictionary\n",
        "        if rows:  # Check if there are any rows in this phase\n",
        "            phases[key] = pd.DataFrame(rows)  # Convert the list of rows into a DataFrame\n",
        "            phases[key] = phases[key].sort_values(by='Timestamp')\n",
        "            phases[key]['Time Between Rows'] = phases[key]['Timestamp'].diff().dt.total_seconds() #the on/off calculation\n",
        "        else:\n",
        "            phases[key] = pd.DataFrame(columns=['Event ID', 'Event Value', 'Timestamp', 'Time Between Rows'])\n",
        "\n",
        "    timeline_df = pd.DataFrame(timeline)\n",
        "    timeline_df = timeline_df.sort_values(by='Timestamp')\n",
        "\n",
        "    # Construct new_df by combining phases and timeline_df\n",
        "    new_df = pd.concat(list(phases.values()) + [timeline_df])\n",
        "    new_df = new_df.sort_values(by='Timestamp')\n",
        "\n",
        "    # Round to the nearest 15 minutes\n",
        "    new_df['Minuterowd'] = new_df['Timestamp'].apply(\n",
        "        lambda dt: dt + pd.Timedelta(minutes=myround(dt.minute,15) - dt.minute,seconds=-dt.second, microseconds=-dt.microsecond)\n",
        "    )\n",
        "\n",
        "    return new_df"
      ],
      "metadata": {
        "id": "FFes5qzrO3pQ"
      },
      "execution_count": null,
      "outputs": []
    },
    {
      "cell_type": "code",
      "source": [
        "def traffic_count(rawdata, **kwargs):\n",
        "    \"\"\"\n",
        "    The point of this function is to take the output of the sortbyphaz dataframe and\n",
        "    the kwargs which is used to indicate which detection device goes to which phase. It has all the numbered phases including phases 2r, 4r, 6r, and 8r to account for right turning movements.\n",
        "    The output is the phase average for every fifteen minutes and the intersection as a whole, counting in hour long segments but printing in fifteen minute segments for smoother results.\n",
        "    The function could be modified to account for different detector types, but at the moment it is only counting the off moments of the detector and summing that to the phase.\n",
        "    \"\"\"\n",
        "    # Initialize variables for counting and tracking\n",
        "    counts = {\n",
        "        'intersection': 0,\n",
        "        '1': 0,\n",
        "        '2': 0,\n",
        "        '2r': 0,\n",
        "        '3': 0,\n",
        "        '4': 0,\n",
        "        '4r': 0,\n",
        "        '5': 0,\n",
        "        '6': 0,\n",
        "        '6r': 0,\n",
        "        '7': 0,\n",
        "        '8': 0,\n",
        "        '8r': 0\n",
        "    }\n",
        "\n",
        "    old = rawdata.iloc[0]['Minuterowd'].minute # Initialize the time variable for the intersection as a whole with the first minute.\n",
        "    phase_old = {key: rawdata.iloc[0]['Minuterowd'].minute for key in counts.keys() if key != '15'}\n",
        "\n",
        "    newdf = []\n",
        "\n",
        "    for c, row in rawdata.iterrows():\n",
        "        # Traffic counting\n",
        "      if row['Event Name'] == \"Detector Off\":\n",
        "            # Intersection-wide counting\n",
        "        if row['Minuterowd'] == old: #counting in an non fifteen-minute chunk\n",
        "          counts['intersection'] += 1\n",
        "          old= row['Minuterowd']\n",
        "        else:\n",
        "          new_row = {\n",
        "          \"Fifteen Minute Average\": (counts['intersection'] *4),\n",
        "          \"Start Minute\": pd.to_datetime(old),\n",
        "          \"Phase\": \"intersection\"}\n",
        "          newdf.append(new_row)\n",
        "          old= row['Minuterowd']\n",
        "          counts['intersection'] = 1\n",
        "\n",
        "            # Phases\n",
        "        for key, value in kwargs.items():\n",
        "          if row['Event Value'] in value:\n",
        "            if row['Minuterowd'] == phase_old[key]:\n",
        "              counts[key] += 1\n",
        "              phase_old[key] = row['Minuterowd']\n",
        "            else:\n",
        "              new_row = {\n",
        "                        \"Fifteen Minute Average\": counts[key] * 4,\n",
        "                        \"Start Minute\": pd.to_datetime(phase_old[key]),\n",
        "                        \"Phase\": key\n",
        "                        }\n",
        "              newdf.append(new_row)\n",
        "              counts[key] = 1\n",
        "              phase_old[key] = row['Minuterowd']\n",
        "\n",
        "    box_df = pd.DataFrame(newdf)\n",
        "    return box_df"
      ],
      "metadata": {
        "id": "QKRkVKGjgvKI"
      },
      "execution_count": null,
      "outputs": []
    },
    {
      "cell_type": "code",
      "execution_count": null,
      "metadata": {
        "id": "PE9T93KwsiAE"
      },
      "outputs": [],
      "source": [
        "join1=pd.read_csv(\"DeviceEvents_06-0946_2024-07-23_13-23-21.csv\") #read in the data\n",
        "join2=pd.read_csv(\"DeviceEvents_06-0946_2024-07-23_13-24-02.csv\")\n",
        "df = pd.concat([join1, join2], ignore_index=True)"
      ]
    },
    {
      "cell_type": "code",
      "execution_count": null,
      "metadata": {
        "id": "3ajLSIx15HXb",
        "collapsed": true
      },
      "outputs": [],
      "source": [
        "df = df.sort_values(by='Timestamp') #sort the data\n",
        "df['Timestamp'] = pd.to_datetime(df['Timestamp'], format=\"%m/%d/%Y %H:%M:%S.%f\") #convert the data to datetime\n",
        "df1=sortbyphaz(df, **{'1a':[1],'1b':[29],'2a':[2],'2b':[3],'4a':[8],'5a':[15],'5b':[31],'5c':[16],'6a':[18],'6b':[19],'8a':[22],'8b':[23]}) #sort the data by phase\n",
        "df1"
      ]
    },
    {
      "cell_type": "code",
      "execution_count": null,
      "metadata": {
        "id": "MnIOHE2IiiNq"
      },
      "outputs": [],
      "source": [
        "df2=traffic_count(df1,**{'1': [1,29], '2': [2,3], '4': [8], '5': [15,31], '6': [18,19], '8': [22,23], '4r': [16]})#count the phases\n",
        "df2 = df2.drop(df2[df2['Start Minute'] == '1970-01-01 00:00:00'].index) #getting rid of the initial row\n",
        "df2['date'] = df2['Start Minute'].apply(lambda x: x.date()) #add date and time columns separate\n",
        "df2['time'] = df2['Start Minute'].apply(lambda x: x.time())\n",
        "df2"
      ]
    },
    {
      "cell_type": "code",
      "execution_count": null,
      "metadata": {
        "id": "GYVF0ERqpxon"
      },
      "outputs": [],
      "source": [
        "#graphing the data for phases\n",
        "import plotly.express as px\n",
        "fig = px.line(df2, x='Start Minute', y='Fifteen Minute Average', color='Phase', color_discrete_map={'1': 'red', '2': 'blue', '3':'Green'}) #graff the data\n",
        "fig.update_layout(title='Traffic Count by Phase', xaxis_title='Date and Time', yaxis_title='Fifteen Minute Average')\n",
        "fig.show()\n",
        "df2"
      ]
    },
    {
      "cell_type": "code",
      "execution_count": null,
      "metadata": {
        "id": "qCfC0cSHQW0g"
      },
      "outputs": [],
      "source": [
        "#graphing the data for intersection wide\n",
        "df3 = df2.sort_values(by='Start Minute', ascending=False) #rotate the graph to go in descending order\n",
        "df4 = df3[df3['Phase'] == 'intersection'] #filtering for just interesction wide\n",
        "contour_plot = go.Heatmap(x=df4['date'], y=df4['time'], z=df4[\"Fifteen Minute Average\"],colorscale='Sunset', reversescale=False,\n",
        "    colorbar=dict(\n",
        "        title=\"Traffic Count\",\n",
        "        titleside=\"top\"\n",
        "    ))\n",
        "fig = go.Figure(data=[contour_plot])\n",
        "fig.update_layout(title='Whole Intersection Traffic Count in 15 Minute Increments',xaxis_title='Date', yaxis_title='Time',\n",
        "    height=650)\n",
        "fig.show()\n",
        "#fig.write_html(\"06-0955heatmap.html\") #printing the graph\n",
        "#like if reverse Blackbody, Spectral\n",
        "#Sunset, HSV ,mygbm, rdylgn, picnic, Portland\n",
        "#vary destgt bad colers mrybm"
      ]
    }
  ],
  "metadata": {
    "colab": {
      "provenance": [],
      "private_outputs": true
    },
    "kernelspec": {
      "display_name": "Python 3",
      "name": "python3"
    },
    "language_info": {
      "name": "python"
    }
  },
  "nbformat": 4,
  "nbformat_minor": 0
}